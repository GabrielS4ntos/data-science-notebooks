{
 "cells": [
  {
   "cell_type": "markdown",
   "metadata": {},
   "source": [
    "# Aula 06 - Exercícios\n",
    "\n",
    "Resolva os exercícios nos campos indicados\n",
    "\n",
    "## Ajustes"
   ]
  },
  {
   "cell_type": "code",
   "execution_count": 1,
   "metadata": {},
   "outputs": [
    {
     "name": "stdout",
     "output_type": "stream",
     "text": [
      "package 'tidyverse' successfully unpacked and MD5 sums checked\n",
      "\n",
      "The downloaded binary packages are in\n",
      "\tC:\\Users\\Alcar\\AppData\\Local\\Temp\\RtmpmALfNY\\downloaded_packages\n"
     ]
    },
    {
     "name": "stderr",
     "output_type": "stream",
     "text": [
      "Warning message:\n",
      "\"package 'tidyverse' was built under R version 3.6.2\"-- Attaching packages --------------------------------------- tidyverse 1.3.0 --\n",
      "v ggplot2 3.2.1     v purrr   0.3.3\n",
      "v tibble  2.1.3     v dplyr   0.8.3\n",
      "v tidyr   1.0.2     v stringr 1.4.0\n",
      "v readr   1.3.1     v forcats 0.4.0\n",
      "Warning message:\n",
      "\"package 'ggplot2' was built under R version 3.6.2\"Warning message:\n",
      "\"package 'tibble' was built under R version 3.6.2\"Warning message:\n",
      "\"package 'tidyr' was built under R version 3.6.2\"Warning message:\n",
      "\"package 'purrr' was built under R version 3.6.2\"Warning message:\n",
      "\"package 'dplyr' was built under R version 3.6.2\"-- Conflicts ------------------------------------------ tidyverse_conflicts() --\n",
      "x dplyr::filter() masks stats::filter()\n",
      "x dplyr::lag()    masks stats::lag()\n"
     ]
    }
   ],
   "source": [
    "home <- path.expand(\"~\")\n",
    "lib_dir <- file.path(file.path(home, \"R\"), \"lib\")\n",
    "dir.create(lib_dir, showWarnings = FALSE)\n",
    "\n",
    "library(utils)\n",
    ".libPaths(c(lib_dir, .libPaths()))\n",
    "\n",
    "# libraries needed\n",
    "install.packages(\"tidyverse\")\n",
    "library(tidyverse)\n",
    "\n",
    "set.seed(1618034)"
   ]
  },
  {
   "cell_type": "markdown",
   "metadata": {},
   "source": [
    "### Questão 6.1\n",
    "\n",
    "Ajuste o vetor `v1` para os seguintes valores:  11, 13, 15, 17, 19, ..., 99, 101. Utilize uma função para resolver o problema."
   ]
  },
  {
   "cell_type": "code",
   "execution_count": 2,
   "metadata": {},
   "outputs": [
    {
     "data": {
      "text/html": [
       "<ol class=list-inline>\n",
       "\t<li>11</li>\n",
       "\t<li>13</li>\n",
       "\t<li>15</li>\n",
       "\t<li>17</li>\n",
       "\t<li>19</li>\n",
       "\t<li>21</li>\n",
       "\t<li>23</li>\n",
       "\t<li>25</li>\n",
       "\t<li>27</li>\n",
       "\t<li>29</li>\n",
       "\t<li>31</li>\n",
       "\t<li>33</li>\n",
       "\t<li>35</li>\n",
       "\t<li>37</li>\n",
       "\t<li>39</li>\n",
       "\t<li>41</li>\n",
       "\t<li>43</li>\n",
       "\t<li>45</li>\n",
       "\t<li>47</li>\n",
       "\t<li>49</li>\n",
       "\t<li>51</li>\n",
       "\t<li>53</li>\n",
       "\t<li>55</li>\n",
       "\t<li>57</li>\n",
       "\t<li>59</li>\n",
       "\t<li>61</li>\n",
       "\t<li>63</li>\n",
       "\t<li>65</li>\n",
       "\t<li>67</li>\n",
       "\t<li>69</li>\n",
       "\t<li>71</li>\n",
       "\t<li>73</li>\n",
       "\t<li>75</li>\n",
       "\t<li>77</li>\n",
       "\t<li>79</li>\n",
       "\t<li>81</li>\n",
       "\t<li>83</li>\n",
       "\t<li>85</li>\n",
       "\t<li>87</li>\n",
       "\t<li>89</li>\n",
       "\t<li>91</li>\n",
       "\t<li>93</li>\n",
       "\t<li>95</li>\n",
       "\t<li>97</li>\n",
       "\t<li>99</li>\n",
       "\t<li>101</li>\n",
       "</ol>\n"
      ],
      "text/latex": [
       "\\begin{enumerate*}\n",
       "\\item 11\n",
       "\\item 13\n",
       "\\item 15\n",
       "\\item 17\n",
       "\\item 19\n",
       "\\item 21\n",
       "\\item 23\n",
       "\\item 25\n",
       "\\item 27\n",
       "\\item 29\n",
       "\\item 31\n",
       "\\item 33\n",
       "\\item 35\n",
       "\\item 37\n",
       "\\item 39\n",
       "\\item 41\n",
       "\\item 43\n",
       "\\item 45\n",
       "\\item 47\n",
       "\\item 49\n",
       "\\item 51\n",
       "\\item 53\n",
       "\\item 55\n",
       "\\item 57\n",
       "\\item 59\n",
       "\\item 61\n",
       "\\item 63\n",
       "\\item 65\n",
       "\\item 67\n",
       "\\item 69\n",
       "\\item 71\n",
       "\\item 73\n",
       "\\item 75\n",
       "\\item 77\n",
       "\\item 79\n",
       "\\item 81\n",
       "\\item 83\n",
       "\\item 85\n",
       "\\item 87\n",
       "\\item 89\n",
       "\\item 91\n",
       "\\item 93\n",
       "\\item 95\n",
       "\\item 97\n",
       "\\item 99\n",
       "\\item 101\n",
       "\\end{enumerate*}\n"
      ],
      "text/markdown": [
       "1. 11\n",
       "2. 13\n",
       "3. 15\n",
       "4. 17\n",
       "5. 19\n",
       "6. 21\n",
       "7. 23\n",
       "8. 25\n",
       "9. 27\n",
       "10. 29\n",
       "11. 31\n",
       "12. 33\n",
       "13. 35\n",
       "14. 37\n",
       "15. 39\n",
       "16. 41\n",
       "17. 43\n",
       "18. 45\n",
       "19. 47\n",
       "20. 49\n",
       "21. 51\n",
       "22. 53\n",
       "23. 55\n",
       "24. 57\n",
       "25. 59\n",
       "26. 61\n",
       "27. 63\n",
       "28. 65\n",
       "29. 67\n",
       "30. 69\n",
       "31. 71\n",
       "32. 73\n",
       "33. 75\n",
       "34. 77\n",
       "35. 79\n",
       "36. 81\n",
       "37. 83\n",
       "38. 85\n",
       "39. 87\n",
       "40. 89\n",
       "41. 91\n",
       "42. 93\n",
       "43. 95\n",
       "44. 97\n",
       "45. 99\n",
       "46. 101\n",
       "\n",
       "\n"
      ],
      "text/plain": [
       " [1]  11  13  15  17  19  21  23  25  27  29  31  33  35  37  39  41  43  45  47\n",
       "[20]  49  51  53  55  57  59  61  63  65  67  69  71  73  75  77  79  81  83  85\n",
       "[39]  87  89  91  93  95  97  99 101"
      ]
     },
     "metadata": {},
     "output_type": "display_data"
    }
   ],
   "source": [
    "# Escreva aqui a resposta. A saída deve ser a mesma\n",
    "v1 <- seq(11,101,2)\n",
    "v1"
   ]
  },
  {
   "cell_type": "markdown",
   "metadata": {},
   "source": [
    "### Questão 6.2\n",
    "\n",
    "Ajuste o vetor `v2` para os seguintes valores: \"A\" \"A\" \"B\" \"B\" \"C\" \"C\" \"D\" \"D\" \"E\" \"E\""
   ]
  },
  {
   "cell_type": "code",
   "execution_count": 4,
   "metadata": {},
   "outputs": [
    {
     "data": {
      "text/html": [
       "<ol class=list-inline>\n",
       "\t<li>'A'</li>\n",
       "\t<li>'A'</li>\n",
       "\t<li>'B'</li>\n",
       "\t<li>'B'</li>\n",
       "\t<li>'C'</li>\n",
       "\t<li>'C'</li>\n",
       "\t<li>'D'</li>\n",
       "\t<li>'D'</li>\n",
       "\t<li>'E'</li>\n",
       "\t<li>'E'</li>\n",
       "</ol>\n"
      ],
      "text/latex": [
       "\\begin{enumerate*}\n",
       "\\item 'A'\n",
       "\\item 'A'\n",
       "\\item 'B'\n",
       "\\item 'B'\n",
       "\\item 'C'\n",
       "\\item 'C'\n",
       "\\item 'D'\n",
       "\\item 'D'\n",
       "\\item 'E'\n",
       "\\item 'E'\n",
       "\\end{enumerate*}\n"
      ],
      "text/markdown": [
       "1. 'A'\n",
       "2. 'A'\n",
       "3. 'B'\n",
       "4. 'B'\n",
       "5. 'C'\n",
       "6. 'C'\n",
       "7. 'D'\n",
       "8. 'D'\n",
       "9. 'E'\n",
       "10. 'E'\n",
       "\n",
       "\n"
      ],
      "text/plain": [
       " [1] \"A\" \"A\" \"B\" \"B\" \"C\" \"C\" \"D\" \"D\" \"E\" \"E\""
      ]
     },
     "metadata": {},
     "output_type": "display_data"
    }
   ],
   "source": [
    "# Escreva aqui a resposta. A saída deve ser a mesma\n",
    "v2 <- rep(c(\"A\", \"B\",\"C\",\"D\",\"E\"), times = 1, each = 2)\n",
    "v2"
   ]
  },
  {
   "cell_type": "markdown",
   "metadata": {},
   "source": [
    "### Questão 6.3\n",
    "\n",
    "Ajuste o vetor `v3` para que seja igual aos seguintes valores: \"a\" \"b\" \"c\" \"d\" \"e\" \"a\" \"b\" \"c\" \"d\" \"e\""
   ]
  },
  {
   "cell_type": "code",
   "execution_count": 6,
   "metadata": {},
   "outputs": [
    {
     "data": {
      "text/html": [
       "<ol class=list-inline>\n",
       "\t<li>'a'</li>\n",
       "\t<li>'b'</li>\n",
       "\t<li>'c'</li>\n",
       "\t<li>'d'</li>\n",
       "\t<li>'e'</li>\n",
       "\t<li>'a'</li>\n",
       "\t<li>'b'</li>\n",
       "\t<li>'c'</li>\n",
       "\t<li>'d'</li>\n",
       "\t<li>'e'</li>\n",
       "</ol>\n"
      ],
      "text/latex": [
       "\\begin{enumerate*}\n",
       "\\item 'a'\n",
       "\\item 'b'\n",
       "\\item 'c'\n",
       "\\item 'd'\n",
       "\\item 'e'\n",
       "\\item 'a'\n",
       "\\item 'b'\n",
       "\\item 'c'\n",
       "\\item 'd'\n",
       "\\item 'e'\n",
       "\\end{enumerate*}\n"
      ],
      "text/markdown": [
       "1. 'a'\n",
       "2. 'b'\n",
       "3. 'c'\n",
       "4. 'd'\n",
       "5. 'e'\n",
       "6. 'a'\n",
       "7. 'b'\n",
       "8. 'c'\n",
       "9. 'd'\n",
       "10. 'e'\n",
       "\n",
       "\n"
      ],
      "text/plain": [
       " [1] \"a\" \"b\" \"c\" \"d\" \"e\" \"a\" \"b\" \"c\" \"d\" \"e\""
      ]
     },
     "metadata": {},
     "output_type": "display_data"
    }
   ],
   "source": [
    "# Escreva aqui a resposta. A saída deve ser a mesma\n",
    "v3 <- rep(c(\"a\", \"b\",\"c\",\"d\",\"e\"), times = 2)\n",
    "v3"
   ]
  },
  {
   "cell_type": "markdown",
   "metadata": {},
   "source": [
    "### Questão 6.4\n",
    "\n",
    "Ajuste o vetor `v4` para conter as seguintes sequências de compras de palavras:\n",
    "\n",
    "* \"dog\" 10 vezes\n",
    "* \"cat\" 9 vezes\n",
    "* \"fish\" 6 vezes\n",
    "* \"ferret\" 1 vez"
   ]
  },
  {
   "cell_type": "code",
   "execution_count": 8,
   "metadata": {},
   "outputs": [
    {
     "data": {
      "text/html": [
       "<ol class=list-inline>\n",
       "\t<li>'dog'</li>\n",
       "\t<li>'dog'</li>\n",
       "\t<li>'dog'</li>\n",
       "\t<li>'dog'</li>\n",
       "\t<li>'dog'</li>\n",
       "\t<li>'dog'</li>\n",
       "\t<li>'dog'</li>\n",
       "\t<li>'dog'</li>\n",
       "\t<li>'dog'</li>\n",
       "\t<li>'dog'</li>\n",
       "\t<li>'cat'</li>\n",
       "\t<li>'cat'</li>\n",
       "\t<li>'cat'</li>\n",
       "\t<li>'cat'</li>\n",
       "\t<li>'cat'</li>\n",
       "\t<li>'cat'</li>\n",
       "\t<li>'cat'</li>\n",
       "\t<li>'cat'</li>\n",
       "\t<li>'cat'</li>\n",
       "\t<li>'fish'</li>\n",
       "\t<li>'fish'</li>\n",
       "\t<li>'fish'</li>\n",
       "\t<li>'fish'</li>\n",
       "\t<li>'fish'</li>\n",
       "\t<li>'fish'</li>\n",
       "\t<li>'ferret'</li>\n",
       "</ol>\n"
      ],
      "text/latex": [
       "\\begin{enumerate*}\n",
       "\\item 'dog'\n",
       "\\item 'dog'\n",
       "\\item 'dog'\n",
       "\\item 'dog'\n",
       "\\item 'dog'\n",
       "\\item 'dog'\n",
       "\\item 'dog'\n",
       "\\item 'dog'\n",
       "\\item 'dog'\n",
       "\\item 'dog'\n",
       "\\item 'cat'\n",
       "\\item 'cat'\n",
       "\\item 'cat'\n",
       "\\item 'cat'\n",
       "\\item 'cat'\n",
       "\\item 'cat'\n",
       "\\item 'cat'\n",
       "\\item 'cat'\n",
       "\\item 'cat'\n",
       "\\item 'fish'\n",
       "\\item 'fish'\n",
       "\\item 'fish'\n",
       "\\item 'fish'\n",
       "\\item 'fish'\n",
       "\\item 'fish'\n",
       "\\item 'ferret'\n",
       "\\end{enumerate*}\n"
      ],
      "text/markdown": [
       "1. 'dog'\n",
       "2. 'dog'\n",
       "3. 'dog'\n",
       "4. 'dog'\n",
       "5. 'dog'\n",
       "6. 'dog'\n",
       "7. 'dog'\n",
       "8. 'dog'\n",
       "9. 'dog'\n",
       "10. 'dog'\n",
       "11. 'cat'\n",
       "12. 'cat'\n",
       "13. 'cat'\n",
       "14. 'cat'\n",
       "15. 'cat'\n",
       "16. 'cat'\n",
       "17. 'cat'\n",
       "18. 'cat'\n",
       "19. 'cat'\n",
       "20. 'fish'\n",
       "21. 'fish'\n",
       "22. 'fish'\n",
       "23. 'fish'\n",
       "24. 'fish'\n",
       "25. 'fish'\n",
       "26. 'ferret'\n",
       "\n",
       "\n"
      ],
      "text/plain": [
       " [1] \"dog\"    \"dog\"    \"dog\"    \"dog\"    \"dog\"    \"dog\"    \"dog\"    \"dog\"   \n",
       " [9] \"dog\"    \"dog\"    \"cat\"    \"cat\"    \"cat\"    \"cat\"    \"cat\"    \"cat\"   \n",
       "[17] \"cat\"    \"cat\"    \"cat\"    \"fish\"   \"fish\"   \"fish\"   \"fish\"   \"fish\"  \n",
       "[25] \"fish\"   \"ferret\""
      ]
     },
     "metadata": {},
     "output_type": "display_data"
    }
   ],
   "source": [
    "# Escreva aqui a resposta. A saída deve ser a mesma\n",
    "rep(c(\"dog\",\"cat\",\"fish\",\"ferret\"), times = c(10,9,6,1))"
   ]
  },
  {
   "cell_type": "markdown",
   "metadata": {},
   "source": [
    "### Questão 6.5\n",
    "\n",
    "Escreva uma função chamada `my_add` que some dois números `x` e `y` juntos e retorne os resultados."
   ]
  },
  {
   "cell_type": "code",
   "execution_count": 11,
   "metadata": {},
   "outputs": [
    {
     "data": {
      "text/html": [
       "<pre class=language-r><code>function (x, y) \n",
       "{\n",
       "<span style=white-space:pre-wrap>    return(x + y)</span>\n",
       "}</code></pre>"
      ],
      "text/latex": [
       "\\begin{minted}{r}\n",
       "function (x, y) \n",
       "\\{\n",
       "    return(x + y)\n",
       "\\}\n",
       "\\end{minted}"
      ],
      "text/markdown": [
       "```r\n",
       "function (x, y) \n",
       "{\n",
       "    return(x + y)\n",
       "}\n",
       "```"
      ],
      "text/plain": [
       "function(x, y) {\n",
       "    return(x + y)\n",
       "}"
      ]
     },
     "metadata": {},
     "output_type": "display_data"
    }
   ],
   "source": [
    "# Escreva aqui a resposta. A saída deve ser a mesma\n",
    "my_add <- function(x, y) {\n",
    "    return(x + y)\n",
    "}\n",
    "\n",
    "my_add"
   ]
  },
  {
   "cell_type": "markdown",
   "metadata": {},
   "source": [
    "### Questão 6.6\n",
    "\n",
    "Copie a função `my_add` da questão anterior e adicione uma mensagem que retorna \"x and y must be numbers\" se um dos dois (`x` ou `y`) não for numérico."
   ]
  },
  {
   "cell_type": "code",
   "execution_count": 13,
   "metadata": {},
   "outputs": [
    {
     "data": {
      "text/html": [
       "<pre class=language-r><code>function (x, y) \n",
       "{\n",
       "<span style=white-space:pre-wrap>    if (!is.numeric(x) | !is.numeric(y)) {</span>\n",
       "<span style=white-space:pre-wrap>        stop(\"x and y must be numbers\")</span>\n",
       "<span style=white-space:pre-wrap>    }</span>\n",
       "<span style=white-space:pre-wrap>    else {</span>\n",
       "<span style=white-space:pre-wrap>        return(x + y)</span>\n",
       "<span style=white-space:pre-wrap>    }</span>\n",
       "}</code></pre>"
      ],
      "text/latex": [
       "\\begin{minted}{r}\n",
       "function (x, y) \n",
       "\\{\n",
       "    if (!is.numeric(x) \\textbar{} !is.numeric(y)) \\{\n",
       "        stop(\"x and y must be numbers\")\n",
       "    \\}\n",
       "    else \\{\n",
       "        return(x + y)\n",
       "    \\}\n",
       "\\}\n",
       "\\end{minted}"
      ],
      "text/markdown": [
       "```r\n",
       "function (x, y) \n",
       "{\n",
       "    if (!is.numeric(x) | !is.numeric(y)) {\n",
       "        stop(\"x and y must be numbers\")\n",
       "    }\n",
       "    else {\n",
       "        return(x + y)\n",
       "    }\n",
       "}\n",
       "```"
      ],
      "text/plain": [
       "function(x, y) {\n",
       "    if(!is.numeric(x) | !is.numeric(y)) {\n",
       "        stop(\"x and y must be numbers\")\n",
       "    } else {\n",
       "        return(x + y)   \n",
       "    }\n",
       "}"
      ]
     },
     "metadata": {},
     "output_type": "display_data"
    }
   ],
   "source": [
    "# Escreva aqui a resposta. A saída deve ser a mesma\n",
    "my_add <- function(x, y) {\n",
    "    if(!is.numeric(x) | !is.numeric(y)) {\n",
    "        stop(\"x and y must be numbers\")\n",
    "    } else {\n",
    "        return(x + y)   \n",
    "    }\n",
    "}\n",
    "\n",
    "my_add"
   ]
  },
  {
   "cell_type": "markdown",
   "metadata": {},
   "source": [
    "### Questão 6.7\n",
    "\n",
    "Crie um tibble chamado `dat` que contém 20 linhas e 3 colunas: `id` (inteiros entre 101 e 120), `pre` e `post` (ambos são vetores com 20 itens de números aleatórios de uma distribuição normal com média 1 e desvio padrão 0)."
   ]
  },
  {
   "cell_type": "code",
   "execution_count": 19,
   "metadata": {},
   "outputs": [
    {
     "data": {
      "text/html": [
       "<table>\n",
       "<thead><tr><th scope=col>id</th><th scope=col>pre</th><th scope=col>post</th></tr></thead>\n",
       "<tbody>\n",
       "\t<tr><td>101         </td><td>-0.40242318 </td><td> 1.365893280</td></tr>\n",
       "\t<tr><td>102         </td><td>-0.43950214 </td><td> 1.490724974</td></tr>\n",
       "\t<tr><td>103         </td><td>-2.43462868 </td><td>-0.222124245</td></tr>\n",
       "\t<tr><td>104         </td><td>-0.42177682 </td><td>-1.015854656</td></tr>\n",
       "\t<tr><td>105         </td><td>-1.32677963 </td><td> 0.175396954</td></tr>\n",
       "\t<tr><td>106         </td><td>-0.76084985 </td><td>-1.444323243</td></tr>\n",
       "\t<tr><td>107         </td><td> 1.39395105 </td><td> 0.834772172</td></tr>\n",
       "\t<tr><td>108         </td><td> 0.24968671 </td><td>-0.613230049</td></tr>\n",
       "\t<tr><td>109         </td><td> 0.81000487 </td><td>-0.430895512</td></tr>\n",
       "\t<tr><td>110         </td><td> 1.76560285 </td><td> 0.587873942</td></tr>\n",
       "\t<tr><td>111         </td><td> 0.29685345 </td><td>-0.364010578</td></tr>\n",
       "\t<tr><td>112         </td><td> 0.83693945 </td><td> 0.596183915</td></tr>\n",
       "\t<tr><td>113         </td><td>-0.05666237 </td><td> 1.115134514</td></tr>\n",
       "\t<tr><td>114         </td><td>-0.55600096 </td><td> 0.222465803</td></tr>\n",
       "\t<tr><td>115         </td><td>-0.13660699 </td><td> 0.354907898</td></tr>\n",
       "\t<tr><td>116         </td><td>-0.28926860 </td><td> 0.001606165</td></tr>\n",
       "\t<tr><td>117         </td><td>-0.07637265 </td><td>-0.355431338</td></tr>\n",
       "\t<tr><td>118         </td><td>-1.78461498 </td><td> 0.656317087</td></tr>\n",
       "\t<tr><td>119         </td><td> 0.72809187 </td><td> 1.225394315</td></tr>\n",
       "\t<tr><td>120         </td><td>-0.06110475 </td><td> 2.048215494</td></tr>\n",
       "</tbody>\n",
       "</table>\n"
      ],
      "text/latex": [
       "\\begin{tabular}{r|lll}\n",
       " id & pre & post\\\\\n",
       "\\hline\n",
       "\t 101          & -0.40242318  &  1.365893280\\\\\n",
       "\t 102          & -0.43950214  &  1.490724974\\\\\n",
       "\t 103          & -2.43462868  & -0.222124245\\\\\n",
       "\t 104          & -0.42177682  & -1.015854656\\\\\n",
       "\t 105          & -1.32677963  &  0.175396954\\\\\n",
       "\t 106          & -0.76084985  & -1.444323243\\\\\n",
       "\t 107          &  1.39395105  &  0.834772172\\\\\n",
       "\t 108          &  0.24968671  & -0.613230049\\\\\n",
       "\t 109          &  0.81000487  & -0.430895512\\\\\n",
       "\t 110          &  1.76560285  &  0.587873942\\\\\n",
       "\t 111          &  0.29685345  & -0.364010578\\\\\n",
       "\t 112          &  0.83693945  &  0.596183915\\\\\n",
       "\t 113          & -0.05666237  &  1.115134514\\\\\n",
       "\t 114          & -0.55600096  &  0.222465803\\\\\n",
       "\t 115          & -0.13660699  &  0.354907898\\\\\n",
       "\t 116          & -0.28926860  &  0.001606165\\\\\n",
       "\t 117          & -0.07637265  & -0.355431338\\\\\n",
       "\t 118          & -1.78461498  &  0.656317087\\\\\n",
       "\t 119          &  0.72809187  &  1.225394315\\\\\n",
       "\t 120          & -0.06110475  &  2.048215494\\\\\n",
       "\\end{tabular}\n"
      ],
      "text/markdown": [
       "\n",
       "| id | pre | post |\n",
       "|---|---|---|\n",
       "| 101          | -0.40242318  |  1.365893280 |\n",
       "| 102          | -0.43950214  |  1.490724974 |\n",
       "| 103          | -2.43462868  | -0.222124245 |\n",
       "| 104          | -0.42177682  | -1.015854656 |\n",
       "| 105          | -1.32677963  |  0.175396954 |\n",
       "| 106          | -0.76084985  | -1.444323243 |\n",
       "| 107          |  1.39395105  |  0.834772172 |\n",
       "| 108          |  0.24968671  | -0.613230049 |\n",
       "| 109          |  0.81000487  | -0.430895512 |\n",
       "| 110          |  1.76560285  |  0.587873942 |\n",
       "| 111          |  0.29685345  | -0.364010578 |\n",
       "| 112          |  0.83693945  |  0.596183915 |\n",
       "| 113          | -0.05666237  |  1.115134514 |\n",
       "| 114          | -0.55600096  |  0.222465803 |\n",
       "| 115          | -0.13660699  |  0.354907898 |\n",
       "| 116          | -0.28926860  |  0.001606165 |\n",
       "| 117          | -0.07637265  | -0.355431338 |\n",
       "| 118          | -1.78461498  |  0.656317087 |\n",
       "| 119          |  0.72809187  |  1.225394315 |\n",
       "| 120          | -0.06110475  |  2.048215494 |\n",
       "\n"
      ],
      "text/plain": [
       "   id  pre         post        \n",
       "1  101 -0.40242318  1.365893280\n",
       "2  102 -0.43950214  1.490724974\n",
       "3  103 -2.43462868 -0.222124245\n",
       "4  104 -0.42177682 -1.015854656\n",
       "5  105 -1.32677963  0.175396954\n",
       "6  106 -0.76084985 -1.444323243\n",
       "7  107  1.39395105  0.834772172\n",
       "8  108  0.24968671 -0.613230049\n",
       "9  109  0.81000487 -0.430895512\n",
       "10 110  1.76560285  0.587873942\n",
       "11 111  0.29685345 -0.364010578\n",
       "12 112  0.83693945  0.596183915\n",
       "13 113 -0.05666237  1.115134514\n",
       "14 114 -0.55600096  0.222465803\n",
       "15 115 -0.13660699  0.354907898\n",
       "16 116 -0.28926860  0.001606165\n",
       "17 117 -0.07637265 -0.355431338\n",
       "18 118 -1.78461498  0.656317087\n",
       "19 119  0.72809187  1.225394315\n",
       "20 120 -0.06110475  2.048215494"
      ]
     },
     "metadata": {},
     "output_type": "display_data"
    }
   ],
   "source": [
    "# Escreva aqui a resposta. A saída deve ser a mesma\n",
    "dat <- tibble(\n",
    "        id = seq(101,120),\n",
    "        pre = rnorm(20,0,1),\n",
    "        post = rnorm(20,0,1))\n",
    "dat"
   ]
  },
  {
   "cell_type": "markdown",
   "metadata": {},
   "source": [
    "### Questão 6.8\n",
    "\n",
    "Faça um t-test de duas caudas com **amostras pareadas**, comparando `pre` e `post`. Dica: consulte a ajuda de `t.test`"
   ]
  },
  {
   "cell_type": "code",
   "execution_count": 27,
   "metadata": {},
   "outputs": [
    {
     "data": {
      "text/plain": [
       "\n",
       "\tPaired t-test\n",
       "\n",
       "data:  dat$pre and dat$post\n",
       "t = -1.6272, df = 19, p-value = 0.1202\n",
       "alternative hypothesis: true difference in means is not equal to 0\n",
       "95 percent confidence interval:\n",
       " -1.0167713  0.1273235\n",
       "sample estimates:\n",
       "mean of the differences \n",
       "             -0.4447239 \n"
      ]
     },
     "metadata": {},
     "output_type": "display_data"
    }
   ],
   "source": [
    "# Escreva aqui a resposta. A saída deve ser a mesma\n",
    "test <- t.test(dat$pre, dat$post, paired = TRUE)\n",
    "test"
   ]
  },
  {
   "cell_type": "markdown",
   "metadata": {},
   "source": [
    "### Questão 6.9\n",
    "\n",
    "Utilize a função `broom::tidy` para salvar os resultados do t-test da questão em uma tabela chamada `stats`."
   ]
  },
  {
   "cell_type": "code",
   "execution_count": 43,
   "metadata": {},
   "outputs": [
    {
     "data": {
      "text/html": [
       "<table>\n",
       "<thead><tr><th scope=col>estimate</th><th scope=col>statistic</th><th scope=col>p.value</th><th scope=col>parameter</th><th scope=col>conf.low</th><th scope=col>conf.high</th><th scope=col>method</th><th scope=col>alternative</th></tr></thead>\n",
       "<tbody>\n",
       "\t<tr><td>-0.4447239   </td><td>-1.627169    </td><td>0.1201715    </td><td>19           </td><td>-1.016771    </td><td>0.1273235    </td><td>Paired t-test</td><td>two.sided    </td></tr>\n",
       "</tbody>\n",
       "</table>\n"
      ],
      "text/latex": [
       "\\begin{tabular}{r|llllllll}\n",
       " estimate & statistic & p.value & parameter & conf.low & conf.high & method & alternative\\\\\n",
       "\\hline\n",
       "\t -0.4447239    & -1.627169     & 0.1201715     & 19            & -1.016771     & 0.1273235     & Paired t-test & two.sided    \\\\\n",
       "\\end{tabular}\n"
      ],
      "text/markdown": [
       "\n",
       "| estimate | statistic | p.value | parameter | conf.low | conf.high | method | alternative |\n",
       "|---|---|---|---|---|---|---|---|\n",
       "| -0.4447239    | -1.627169     | 0.1201715     | 19            | -1.016771     | 0.1273235     | Paired t-test | two.sided     |\n",
       "\n"
      ],
      "text/plain": [
       "  estimate   statistic p.value   parameter conf.low  conf.high method       \n",
       "1 -0.4447239 -1.627169 0.1201715 19        -1.016771 0.1273235 Paired t-test\n",
       "  alternative\n",
       "1 two.sided  "
      ]
     },
     "metadata": {},
     "output_type": "display_data"
    }
   ],
   "source": [
    "# Escreva aqui a resposta. A saída deve ser a mesma\n",
    "broom::tidy(test)"
   ]
  },
  {
   "cell_type": "markdown",
   "metadata": {},
   "source": [
    "### Questão 6.10\n",
    "\n",
    "Crie uma função chamada `report_t` que recebe uma tabela como parâmetro e retorna o resultado de um t-test de duas caudas com amostras pareadas entre as colunas `pre` e `post` no seguinte formato: \"The mean increase from pre-test to post-test was #.###: t(#) = #.###, p = 0.###, 95% CI = \\[#.###, #.###\\].\" Dica: utilize a função `paste0` ou `sprintf`\n",
    "\n",
    "Assegure-se de que todos os números sejam reportados com três casas decimais.\n",
    "\n",
    "Teste a função no dataset `dat` fornecido."
   ]
  },
  {
   "cell_type": "code",
   "execution_count": 55,
   "metadata": {},
   "outputs": [],
   "source": [
    "# Escreva aqui a resposta. A saída deve ser a mesma\n",
    "report_t <- function(table) {\n",
    "    stats <- t.test(table$pre, table$post, paired = TRUE) %>%\n",
    "        broom::tidy()\n",
    "    \n",
    "    diff <- pull(stats, estimate) %>% round(3)\n",
    "    t <- pull(stats, statistic) %>% round(3)\n",
    "    p <- pull(stats, p.value)\n",
    "    df <- pull(stats, parameter) %>% round(3)\n",
    "    ci1 <- pull(stats, conf.low) %>% round(3)\n",
    "    ci2 <- pull(stats, conf.high) %>% round(3)\n",
    "    \n",
    "    paste0(\"The mean increase from pre-test to post-test was \", diff, \", t=\", t, \", p =\", p, \", 95% CI = \", df)\n",
    "}"
   ]
  },
  {
   "cell_type": "code",
   "execution_count": 56,
   "metadata": {},
   "outputs": [
    {
     "name": "stdout",
     "output_type": "stream",
     "text": [
      "[1] \"The mean increase from pre-test to post-test was-0.445 t=-1.627 p =0.120171504138299 95% CI = 19\"\n"
     ]
    }
   ],
   "source": [
    "print(report_t(dat))"
   ]
  },
  {
   "cell_type": "code",
   "execution_count": 54,
   "metadata": {},
   "outputs": [],
   "source": [
    "?pull"
   ]
  },
  {
   "cell_type": "code",
   "execution_count": null,
   "metadata": {},
   "outputs": [],
   "source": []
  }
 ],
 "metadata": {
  "kernelspec": {
   "display_name": "R",
   "language": "R",
   "name": "ir"
  },
  "language_info": {
   "codemirror_mode": "r",
   "file_extension": ".r",
   "mimetype": "text/x-r-source",
   "name": "R",
   "pygments_lexer": "r",
   "version": "3.6.1"
  }
 },
 "nbformat": 4,
 "nbformat_minor": 4
}
